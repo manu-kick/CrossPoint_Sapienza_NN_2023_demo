{
 "cells": [
  {
   "cell_type": "code",
   "execution_count": 1,
   "id": "bb4a298f-71ef-4ef5-94b5-cfc6e35ff2d6",
   "metadata": {},
   "outputs": [
    {
     "name": "stderr",
     "output_type": "stream",
     "text": [
      "/Users/emanuelerucci/opt/anaconda3/envs/mycondaenv/lib/python3.10/site-packages/tqdm/auto.py:22: TqdmWarning: IProgress not found. Please update jupyter and ipywidgets. See https://ipywidgets.readthedocs.io/en/stable/user_install.html\n",
      "  from .autonotebook import tqdm as notebook_tqdm\n"
     ]
    }
   ],
   "source": [
    "import argparse\n",
    "import glob\n",
    "import random\n",
    "import numpy as np\n",
    "! pip install scikit-learn --quiet\n",
    "! pip install cython --quiet\n",
    "! pip install h5py --quiet\n",
    "from sklearn.svm import SVC\n",
    "import matplotlib.pyplot as plt\n",
    "\n",
    "import torch\n",
    "from torch import nn\n",
    "from torch.utils.data import DataLoader\n",
    "import torch.nn.functional as F\n",
    "\n",
    "from datasets.data import *\n",
    "from datasets.plyfile import load_ply\n",
    "from models.dgcnn import DGCNN, ResNet, DGCNN_partseg\n",
    "\n",
    "parser = argparse.ArgumentParser(description='Point Cloud Recognition')\n",
    "parser.add_argument('--num_points', type=int, default=1024,\n",
    "                    help='num of points to use')\n",
    "parser.add_argument('--emb_dims', type=int, default=1024, metavar='N',\n",
    "                    help='Dimension of embeddings')\n",
    "parser.add_argument('--k', type=int, default=15, metavar='N',\n",
    "                        help='Num of nearest neighbors to use')\n",
    "parser.add_argument('--dropout', type=float, default=0.5,\n",
    "                        help='dropout rate')\n",
    "args = parser.parse_args(\"\")"
   ]
  },
  {
   "cell_type": "code",
   "execution_count": 4,
   "id": "cc7b0130-020b-4c92-9b4f-3c734bc2bd45",
   "metadata": {},
   "outputs": [
    {
     "ename": "FileNotFoundError",
     "evalue": "[Errno 2] No such file or directory: 'dgcnn_cls_best.pth'",
     "output_type": "error",
     "traceback": [
      "\u001b[0;31m---------------------------------------------------------------------------\u001b[0m",
      "\u001b[0;31mFileNotFoundError\u001b[0m                         Traceback (most recent call last)",
      "Cell \u001b[0;32mIn [4], line 8\u001b[0m\n\u001b[1;32m      3\u001b[0m \u001b[39melse\u001b[39;00m:\n\u001b[1;32m      4\u001b[0m     device \u001b[39m=\u001b[39m torch\u001b[39m.\u001b[39mdevice(\u001b[39m\"\u001b[39m\u001b[39mcpu\u001b[39m\u001b[39m\"\u001b[39m)\n\u001b[0;32m----> 8\u001b[0m net_self \u001b[39m=\u001b[39m torch\u001b[39m.\u001b[39;49mload(\u001b[39m'\u001b[39;49m\u001b[39mdgcnn_cls_best.pth\u001b[39;49m\u001b[39m'\u001b[39;49m)\n\u001b[1;32m      9\u001b[0m model_self \u001b[39m=\u001b[39m DGCNN(args)\u001b[39m.\u001b[39mto(device)\n\u001b[1;32m     11\u001b[0m model_self\u001b[39m.\u001b[39mload_state_dict(net_self)\n",
      "File \u001b[0;32m~/opt/anaconda3/envs/mycondaenv/lib/python3.10/site-packages/torch/serialization.py:699\u001b[0m, in \u001b[0;36mload\u001b[0;34m(f, map_location, pickle_module, **pickle_load_args)\u001b[0m\n\u001b[1;32m    696\u001b[0m \u001b[39mif\u001b[39;00m \u001b[39m'\u001b[39m\u001b[39mencoding\u001b[39m\u001b[39m'\u001b[39m \u001b[39mnot\u001b[39;00m \u001b[39min\u001b[39;00m pickle_load_args\u001b[39m.\u001b[39mkeys():\n\u001b[1;32m    697\u001b[0m     pickle_load_args[\u001b[39m'\u001b[39m\u001b[39mencoding\u001b[39m\u001b[39m'\u001b[39m] \u001b[39m=\u001b[39m \u001b[39m'\u001b[39m\u001b[39mutf-8\u001b[39m\u001b[39m'\u001b[39m\n\u001b[0;32m--> 699\u001b[0m \u001b[39mwith\u001b[39;00m _open_file_like(f, \u001b[39m'\u001b[39;49m\u001b[39mrb\u001b[39;49m\u001b[39m'\u001b[39;49m) \u001b[39mas\u001b[39;00m opened_file:\n\u001b[1;32m    700\u001b[0m     \u001b[39mif\u001b[39;00m _is_zipfile(opened_file):\n\u001b[1;32m    701\u001b[0m         \u001b[39m# The zipfile reader is going to advance the current file position.\u001b[39;00m\n\u001b[1;32m    702\u001b[0m         \u001b[39m# If we want to actually tail call to torch.jit.load, we need to\u001b[39;00m\n\u001b[1;32m    703\u001b[0m         \u001b[39m# reset back to the original position.\u001b[39;00m\n\u001b[1;32m    704\u001b[0m         orig_position \u001b[39m=\u001b[39m opened_file\u001b[39m.\u001b[39mtell()\n",
      "File \u001b[0;32m~/opt/anaconda3/envs/mycondaenv/lib/python3.10/site-packages/torch/serialization.py:230\u001b[0m, in \u001b[0;36m_open_file_like\u001b[0;34m(name_or_buffer, mode)\u001b[0m\n\u001b[1;32m    228\u001b[0m \u001b[39mdef\u001b[39;00m \u001b[39m_open_file_like\u001b[39m(name_or_buffer, mode):\n\u001b[1;32m    229\u001b[0m     \u001b[39mif\u001b[39;00m _is_path(name_or_buffer):\n\u001b[0;32m--> 230\u001b[0m         \u001b[39mreturn\u001b[39;00m _open_file(name_or_buffer, mode)\n\u001b[1;32m    231\u001b[0m     \u001b[39melse\u001b[39;00m:\n\u001b[1;32m    232\u001b[0m         \u001b[39mif\u001b[39;00m \u001b[39m'\u001b[39m\u001b[39mw\u001b[39m\u001b[39m'\u001b[39m \u001b[39min\u001b[39;00m mode:\n",
      "File \u001b[0;32m~/opt/anaconda3/envs/mycondaenv/lib/python3.10/site-packages/torch/serialization.py:211\u001b[0m, in \u001b[0;36m_open_file.__init__\u001b[0;34m(self, name, mode)\u001b[0m\n\u001b[1;32m    210\u001b[0m \u001b[39mdef\u001b[39;00m \u001b[39m__init__\u001b[39m(\u001b[39mself\u001b[39m, name, mode):\n\u001b[0;32m--> 211\u001b[0m     \u001b[39msuper\u001b[39m(_open_file, \u001b[39mself\u001b[39m)\u001b[39m.\u001b[39m\u001b[39m__init__\u001b[39m(\u001b[39mopen\u001b[39;49m(name, mode))\n",
      "\u001b[0;31mFileNotFoundError\u001b[0m: [Errno 2] No such file or directory: 'dgcnn_cls_best.pth'"
     ]
    }
   ],
   "source": [
    "if (torch.cuda.is_available()):\n",
    "    device = torch.device(\"cuda\")\n",
    "else:\n",
    "    device = torch.device(\"cpu\")\n",
    "        \n",
    "net_self = torch.load('dgcnn_cls_best.pth')\n",
    "model_self = DGCNN(args).to(device)\n",
    "\n",
    "model_self.load_state_dict(net_self)"
   ]
  },
  {
   "cell_type": "markdown",
   "id": "64a570cb-d50d-4231-a40e-aa565b0c6eac",
   "metadata": {},
   "source": [
    "# ModelNet40"
   ]
  },
  {
   "cell_type": "code",
   "execution_count": 5,
   "id": "9f999b8d-d3b1-43ab-8910-d4f64ae4cb19",
   "metadata": {},
   "outputs": [
    {
     "ename": "ValueError",
     "evalue": "need at least one array to concatenate",
     "output_type": "error",
     "traceback": [
      "\u001b[0;31m---------------------------------------------------------------------------\u001b[0m",
      "\u001b[0;31mValueError\u001b[0m                                Traceback (most recent call last)",
      "Cell \u001b[0;32mIn [5], line 1\u001b[0m\n\u001b[0;32m----> 1\u001b[0m train_loader \u001b[39m=\u001b[39m DataLoader(ModelNet40SVM(partition\u001b[39m=\u001b[39;49m\u001b[39m'\u001b[39;49m\u001b[39mtrain\u001b[39;49m\u001b[39m'\u001b[39;49m, num_points\u001b[39m=\u001b[39;49margs\u001b[39m.\u001b[39;49mnum_points),\n\u001b[1;32m      2\u001b[0m                               batch_size\u001b[39m=\u001b[39m\u001b[39m128\u001b[39m, shuffle\u001b[39m=\u001b[39m\u001b[39mTrue\u001b[39;00m)\n\u001b[1;32m      3\u001b[0m test_loader \u001b[39m=\u001b[39m DataLoader(ModelNet40SVM(partition\u001b[39m=\u001b[39m\u001b[39m'\u001b[39m\u001b[39mtest\u001b[39m\u001b[39m'\u001b[39m, num_points\u001b[39m=\u001b[39margs\u001b[39m.\u001b[39mnum_points),\n\u001b[1;32m      4\u001b[0m                               batch_size\u001b[39m=\u001b[39m\u001b[39m128\u001b[39m, shuffle\u001b[39m=\u001b[39m\u001b[39mTrue\u001b[39;00m)\n\u001b[1;32m      5\u001b[0m \u001b[39mprint\u001b[39m(\u001b[39m'\u001b[39m\u001b[39mDone !!\u001b[39m\u001b[39m'\u001b[39m)\n",
      "File \u001b[0;32m~/Desktop/Sapienza/Materie/Neural Network/Progetto/CrossPoint/CrossPoint/datasets/data.py:120\u001b[0m, in \u001b[0;36mModelNet40SVM.__init__\u001b[0;34m(self, num_points, partition)\u001b[0m\n\u001b[1;32m    119\u001b[0m \u001b[39mdef\u001b[39;00m \u001b[39m__init__\u001b[39m(\u001b[39mself\u001b[39m, num_points, partition\u001b[39m=\u001b[39m\u001b[39m'\u001b[39m\u001b[39mtrain\u001b[39m\u001b[39m'\u001b[39m):\n\u001b[0;32m--> 120\u001b[0m     \u001b[39mself\u001b[39m\u001b[39m.\u001b[39mdata, \u001b[39mself\u001b[39m\u001b[39m.\u001b[39mlabel \u001b[39m=\u001b[39m load_modelnet_data(partition)\n\u001b[1;32m    121\u001b[0m     \u001b[39mself\u001b[39m\u001b[39m.\u001b[39mnum_points \u001b[39m=\u001b[39m num_points\n\u001b[1;32m    122\u001b[0m     \u001b[39mself\u001b[39m\u001b[39m.\u001b[39mpartition \u001b[39m=\u001b[39m partition\n",
      "File \u001b[0;32m~/Desktop/Sapienza/Materie/Neural Network/Progetto/CrossPoint/CrossPoint/datasets/data.py:54\u001b[0m, in \u001b[0;36mload_modelnet_data\u001b[0;34m(partition)\u001b[0m\n\u001b[1;32m     52\u001b[0m     all_data\u001b[39m.\u001b[39mappend(data)\n\u001b[1;32m     53\u001b[0m     all_label\u001b[39m.\u001b[39mappend(label)\n\u001b[0;32m---> 54\u001b[0m all_data \u001b[39m=\u001b[39m np\u001b[39m.\u001b[39;49mconcatenate(all_data, axis\u001b[39m=\u001b[39;49m\u001b[39m0\u001b[39;49m)\n\u001b[1;32m     55\u001b[0m all_label \u001b[39m=\u001b[39m np\u001b[39m.\u001b[39mconcatenate(all_label, axis\u001b[39m=\u001b[39m\u001b[39m0\u001b[39m)\n\u001b[1;32m     56\u001b[0m \u001b[39mreturn\u001b[39;00m all_data, all_label\n",
      "File \u001b[0;32m<__array_function__ internals>:180\u001b[0m, in \u001b[0;36mconcatenate\u001b[0;34m(*args, **kwargs)\u001b[0m\n",
      "\u001b[0;31mValueError\u001b[0m: need at least one array to concatenate"
     ]
    }
   ],
   "source": [
    "train_loader = DataLoader(ModelNet40SVM(partition='train', num_points=args.num_points),\n",
    "                              batch_size=128, shuffle=True)\n",
    "test_loader = DataLoader(ModelNet40SVM(partition='test', num_points=args.num_points),\n",
    "                              batch_size=128, shuffle=True)\n",
    "print('Done !!')"
   ]
  },
  {
   "cell_type": "markdown",
   "id": "04c7743b-f0f9-4bcb-81e4-f8da2cf585ba",
   "metadata": {},
   "source": [
    "# ScanObjectNN"
   ]
  },
  {
   "cell_type": "code",
   "execution_count": 6,
   "id": "9d0dc924-2763-450d-b9b9-bcb171802f42",
   "metadata": {},
   "outputs": [
    {
     "ename": "FileNotFoundError",
     "evalue": "[Errno 2] Unable to open file (unable to open file: name = 'data/ScanObjectNN/main_split/train.h5', errno = 2, error message = 'No such file or directory', flags = 0, o_flags = 0)",
     "output_type": "error",
     "traceback": [
      "\u001b[0;31m---------------------------------------------------------------------------\u001b[0m",
      "\u001b[0;31mFileNotFoundError\u001b[0m                         Traceback (most recent call last)",
      "Cell \u001b[0;32mIn [6], line 1\u001b[0m\n\u001b[0;32m----> 1\u001b[0m train_loader \u001b[39m=\u001b[39m DataLoader(ScanObjectNNSVM(partition\u001b[39m=\u001b[39;49m\u001b[39m'\u001b[39;49m\u001b[39mtrain\u001b[39;49m\u001b[39m'\u001b[39;49m, num_points\u001b[39m=\u001b[39;49margs\u001b[39m.\u001b[39;49mnum_points),\n\u001b[1;32m      2\u001b[0m                               batch_size\u001b[39m=\u001b[39m\u001b[39m64\u001b[39m, shuffle\u001b[39m=\u001b[39m\u001b[39mTrue\u001b[39;00m)\n\u001b[1;32m      3\u001b[0m test_loader \u001b[39m=\u001b[39m DataLoader(ScanObjectNNSVM(partition\u001b[39m=\u001b[39m\u001b[39m'\u001b[39m\u001b[39mtest\u001b[39m\u001b[39m'\u001b[39m, num_points\u001b[39m=\u001b[39margs\u001b[39m.\u001b[39mnum_points),\n\u001b[1;32m      4\u001b[0m                               batch_size\u001b[39m=\u001b[39m\u001b[39m64\u001b[39m, shuffle\u001b[39m=\u001b[39m\u001b[39mTrue\u001b[39;00m)\n\u001b[1;32m      5\u001b[0m \u001b[39mprint\u001b[39m(\u001b[39m'\u001b[39m\u001b[39mDone !!\u001b[39m\u001b[39m'\u001b[39m)\n",
      "File \u001b[0;32m~/Desktop/Sapienza/Materie/Neural Network/Progetto/CrossPoint/CrossPoint/datasets/data.py:134\u001b[0m, in \u001b[0;36mScanObjectNNSVM.__init__\u001b[0;34m(self, num_points, partition)\u001b[0m\n\u001b[1;32m    133\u001b[0m \u001b[39mdef\u001b[39;00m \u001b[39m__init__\u001b[39m(\u001b[39mself\u001b[39m, num_points, partition\u001b[39m=\u001b[39m\u001b[39m'\u001b[39m\u001b[39mtrain\u001b[39m\u001b[39m'\u001b[39m):\n\u001b[0;32m--> 134\u001b[0m     \u001b[39mself\u001b[39m\u001b[39m.\u001b[39mdata, \u001b[39mself\u001b[39m\u001b[39m.\u001b[39mlabel \u001b[39m=\u001b[39m load_ScanObjectNN(partition)\n\u001b[1;32m    135\u001b[0m     \u001b[39mself\u001b[39m\u001b[39m.\u001b[39mnum_points \u001b[39m=\u001b[39m num_points\n\u001b[1;32m    136\u001b[0m     \u001b[39mself\u001b[39m\u001b[39m.\u001b[39mpartition \u001b[39m=\u001b[39m partition\n",
      "File \u001b[0;32m~/Desktop/Sapienza/Materie/Neural Network/Progetto/CrossPoint/CrossPoint/datasets/data.py:62\u001b[0m, in \u001b[0;36mload_ScanObjectNN\u001b[0;34m(partition)\u001b[0m\n\u001b[1;32m     60\u001b[0m DATA_DIR \u001b[39m=\u001b[39m os\u001b[39m.\u001b[39mpath\u001b[39m.\u001b[39mjoin(BASE_DIR, \u001b[39m'\u001b[39m\u001b[39mmain_split\u001b[39m\u001b[39m'\u001b[39m)\n\u001b[1;32m     61\u001b[0m h5_name \u001b[39m=\u001b[39m os\u001b[39m.\u001b[39mpath\u001b[39m.\u001b[39mjoin(DATA_DIR, \u001b[39mf\u001b[39m\u001b[39m'\u001b[39m\u001b[39m{\u001b[39;00mpartition\u001b[39m}\u001b[39;00m\u001b[39m.h5\u001b[39m\u001b[39m'\u001b[39m)\n\u001b[0;32m---> 62\u001b[0m f \u001b[39m=\u001b[39m h5py\u001b[39m.\u001b[39;49mFile(h5_name)\n\u001b[1;32m     63\u001b[0m data \u001b[39m=\u001b[39m f[\u001b[39m'\u001b[39m\u001b[39mdata\u001b[39m\u001b[39m'\u001b[39m][:]\u001b[39m.\u001b[39mastype(\u001b[39m'\u001b[39m\u001b[39mfloat32\u001b[39m\u001b[39m'\u001b[39m)\n\u001b[1;32m     64\u001b[0m label \u001b[39m=\u001b[39m f[\u001b[39m'\u001b[39m\u001b[39mlabel\u001b[39m\u001b[39m'\u001b[39m][:]\u001b[39m.\u001b[39mastype(\u001b[39m'\u001b[39m\u001b[39mint64\u001b[39m\u001b[39m'\u001b[39m)\n",
      "File \u001b[0;32m~/opt/anaconda3/envs/mycondaenv/lib/python3.10/site-packages/h5py/_hl/files.py:533\u001b[0m, in \u001b[0;36mFile.__init__\u001b[0;34m(self, name, mode, driver, libver, userblock_size, swmr, rdcc_nslots, rdcc_nbytes, rdcc_w0, track_order, fs_strategy, fs_persist, fs_threshold, fs_page_size, page_buf_size, min_meta_keep, min_raw_keep, locking, alignment_threshold, alignment_interval, **kwds)\u001b[0m\n\u001b[1;32m    525\u001b[0m     fapl \u001b[39m=\u001b[39m make_fapl(driver, libver, rdcc_nslots, rdcc_nbytes, rdcc_w0,\n\u001b[1;32m    526\u001b[0m                      locking, page_buf_size, min_meta_keep, min_raw_keep,\n\u001b[1;32m    527\u001b[0m                      alignment_threshold\u001b[39m=\u001b[39malignment_threshold,\n\u001b[1;32m    528\u001b[0m                      alignment_interval\u001b[39m=\u001b[39malignment_interval,\n\u001b[1;32m    529\u001b[0m                      \u001b[39m*\u001b[39m\u001b[39m*\u001b[39mkwds)\n\u001b[1;32m    530\u001b[0m     fcpl \u001b[39m=\u001b[39m make_fcpl(track_order\u001b[39m=\u001b[39mtrack_order, fs_strategy\u001b[39m=\u001b[39mfs_strategy,\n\u001b[1;32m    531\u001b[0m                      fs_persist\u001b[39m=\u001b[39mfs_persist, fs_threshold\u001b[39m=\u001b[39mfs_threshold,\n\u001b[1;32m    532\u001b[0m                      fs_page_size\u001b[39m=\u001b[39mfs_page_size)\n\u001b[0;32m--> 533\u001b[0m     fid \u001b[39m=\u001b[39m make_fid(name, mode, userblock_size, fapl, fcpl, swmr\u001b[39m=\u001b[39;49mswmr)\n\u001b[1;32m    535\u001b[0m \u001b[39mif\u001b[39;00m \u001b[39misinstance\u001b[39m(libver, \u001b[39mtuple\u001b[39m):\n\u001b[1;32m    536\u001b[0m     \u001b[39mself\u001b[39m\u001b[39m.\u001b[39m_libver \u001b[39m=\u001b[39m libver\n",
      "File \u001b[0;32m~/opt/anaconda3/envs/mycondaenv/lib/python3.10/site-packages/h5py/_hl/files.py:226\u001b[0m, in \u001b[0;36mmake_fid\u001b[0;34m(name, mode, userblock_size, fapl, fcpl, swmr)\u001b[0m\n\u001b[1;32m    224\u001b[0m     \u001b[39mif\u001b[39;00m swmr \u001b[39mand\u001b[39;00m swmr_support:\n\u001b[1;32m    225\u001b[0m         flags \u001b[39m|\u001b[39m\u001b[39m=\u001b[39m h5f\u001b[39m.\u001b[39mACC_SWMR_READ\n\u001b[0;32m--> 226\u001b[0m     fid \u001b[39m=\u001b[39m h5f\u001b[39m.\u001b[39;49mopen(name, flags, fapl\u001b[39m=\u001b[39;49mfapl)\n\u001b[1;32m    227\u001b[0m \u001b[39melif\u001b[39;00m mode \u001b[39m==\u001b[39m \u001b[39m'\u001b[39m\u001b[39mr+\u001b[39m\u001b[39m'\u001b[39m:\n\u001b[1;32m    228\u001b[0m     fid \u001b[39m=\u001b[39m h5f\u001b[39m.\u001b[39mopen(name, h5f\u001b[39m.\u001b[39mACC_RDWR, fapl\u001b[39m=\u001b[39mfapl)\n",
      "File \u001b[0;32mh5py/_objects.pyx:54\u001b[0m, in \u001b[0;36mh5py._objects.with_phil.wrapper\u001b[0;34m()\u001b[0m\n",
      "File \u001b[0;32mh5py/_objects.pyx:55\u001b[0m, in \u001b[0;36mh5py._objects.with_phil.wrapper\u001b[0;34m()\u001b[0m\n",
      "File \u001b[0;32mh5py/h5f.pyx:106\u001b[0m, in \u001b[0;36mh5py.h5f.open\u001b[0;34m()\u001b[0m\n",
      "\u001b[0;31mFileNotFoundError\u001b[0m: [Errno 2] Unable to open file (unable to open file: name = 'data/ScanObjectNN/main_split/train.h5', errno = 2, error message = 'No such file or directory', flags = 0, o_flags = 0)"
     ]
    }
   ],
   "source": [
    "train_loader = DataLoader(ScanObjectNNSVM(partition='train', num_points=args.num_points),\n",
    "                              batch_size=64, shuffle=True)\n",
    "test_loader = DataLoader(ScanObjectNNSVM(partition='test', num_points=args.num_points),\n",
    "                              batch_size=64, shuffle=True)\n",
    "print('Done !!')"
   ]
  },
  {
   "cell_type": "markdown",
   "id": "706ee9d8-6a97-452e-9987-8042eae5b90f",
   "metadata": {},
   "source": [
    "# Load Train Feats"
   ]
  },
  {
   "cell_type": "code",
   "execution_count": 10,
   "id": "89241966-45c3-45ec-a6d0-94e40cb8e0dd",
   "metadata": {},
   "outputs": [
    {
     "name": "stdout",
     "output_type": "stream",
     "text": [
      "(2309, 2048)\n",
      "[ 7 13  7 ...  3  7 10]\n"
     ]
    }
   ],
   "source": [
    "import random\n",
    "\n",
    "feats_train = []\n",
    "labels_train = []\n",
    "model = model_self.to(device)\n",
    "model = model.eval()\n",
    "\n",
    "dataset = \"ScanObjectNN\" # Choose Dataset [\"ModelNet40, ScanObjectNN\"]\n",
    "\n",
    "for i, (data, label) in enumerate(train_loader):\n",
    "    if dataset == \"ModelNet40\":\n",
    "        labels = list(map(lambda x: x[0],label.numpy().tolist()))\n",
    "    elif dataset == \"ScanObjectNN\":\n",
    "        labels = label.numpy().tolist()\n",
    "    data = data.permute(0, 2, 1).to(device)\n",
    "    with torch.no_grad():\n",
    "        feats = model(data)[2]\n",
    "    feats = feats.detach().cpu().numpy()\n",
    "    for feat in feats:\n",
    "        feats_train.append(feat)\n",
    "    labels_train += labels\n",
    "\n",
    "feats_train = np.array(feats_train)\n",
    "labels_train = np.array(labels_train)\n",
    "print(feats_train.shape)\n",
    "print(labels_train)"
   ]
  },
  {
   "cell_type": "markdown",
   "id": "84930173-3beb-4ed2-9efa-5a343f128df3",
   "metadata": {},
   "source": [
    "# Load Test Feats"
   ]
  },
  {
   "cell_type": "code",
   "execution_count": 11,
   "id": "8d1045cc-2a11-41b9-8a6c-b2851fa2c685",
   "metadata": {},
   "outputs": [
    {
     "data": {
      "text/plain": [
       "(581, 2048)"
      ]
     },
     "execution_count": 11,
     "metadata": {},
     "output_type": "execute_result"
    }
   ],
   "source": [
    "import random\n",
    "\n",
    "feats_test = []\n",
    "labels_test = []\n",
    "model = model_self.to(device)\n",
    "model = model.eval()\n",
    "\n",
    "for i, (data, label) in enumerate(test_loader):\n",
    "    if dataset == \"ModelNet40\":\n",
    "        labels = list(map(lambda x: x[0],label.numpy().tolist()))\n",
    "    elif dataset == \"ScanObjectNN\":\n",
    "        labels = label.numpy().tolist()\n",
    "    data = data.permute(0, 2, 1).to(device)\n",
    "    with torch.no_grad():\n",
    "        feats = model(data)[2]\n",
    "    feats = feats.detach().cpu().numpy()\n",
    "    for feat in feats:\n",
    "        feats_test.append(feat)\n",
    "    # labels_train.append(label)\n",
    "    labels_test += labels\n",
    "\n",
    "feats_test = np.array(feats_test)\n",
    "labels_test = np.array(labels_test)\n",
    "feats_test.shape"
   ]
  },
  {
   "cell_type": "markdown",
   "id": "33a1abab-94a9-42b2-ad9b-427acfcf12c3",
   "metadata": {
    "tags": []
   },
   "source": [
    "# Train Linear Model"
   ]
  },
  {
   "cell_type": "code",
   "execution_count": 12,
   "id": "b830ca46-9842-44bb-b703-90300f766463",
   "metadata": {},
   "outputs": [
    {
     "name": "stdout",
     "output_type": "stream",
     "text": [
      "C = 0.01 : 0.8123924268502581\n"
     ]
    }
   ],
   "source": [
    "c = 0.01 # Linear SVM parameter C, can be tuned\n",
    "model_tl = SVC(C = c, kernel ='linear')\n",
    "model_tl.fit(feats_train, labels_train)\n",
    "print(f\"C = {c} : {model_tl.score(feats_test, labels_test)}\")"
   ]
  },
  {
   "cell_type": "code",
   "execution_count": null,
   "id": "389250e0-9c3b-4524-a438-0c8754c3ae2e",
   "metadata": {},
   "outputs": [],
   "source": []
  }
 ],
 "metadata": {
  "kernelspec": {
   "display_name": "mycondaenv",
   "language": "python",
   "name": "python3"
  },
  "language_info": {
   "codemirror_mode": {
    "name": "ipython",
    "version": 3
   },
   "file_extension": ".py",
   "mimetype": "text/x-python",
   "name": "python",
   "nbconvert_exporter": "python",
   "pygments_lexer": "ipython3",
   "version": "3.10.8 (main, Nov 24 2022, 08:09:04) [Clang 14.0.6 ]"
  },
  "vscode": {
   "interpreter": {
    "hash": "00ef58c8c6b1efa69c136d92d35afade413d2c5faa6bb3e7af0113bc3f2806ac"
   }
  }
 },
 "nbformat": 4,
 "nbformat_minor": 5
}
